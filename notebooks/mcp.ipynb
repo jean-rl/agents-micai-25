{
 "cells": [
  {
   "cell_type": "code",
   "execution_count": null,
   "id": "0126dfb0",
   "metadata": {},
   "outputs": [],
   "source": [
    "# Create a new directory for our project\n",
    "% uv init proj-mcp           # mkdir project\n",
    "% cd project"
   ]
  },
  {
   "cell_type": "code",
   "execution_count": null,
   "id": "e6b1f9a1",
   "metadata": {},
   "outputs": [],
   "source": [
    "# Create virtual enviroment and activate it\n",
    "% uv venv                     # python -m venv proj-mcp\n",
    "% source .venv/bin/activate   # .\\venv\\Scripts\\Activate"
   ]
  },
  {
   "cell_type": "code",
   "execution_count": null,
   "id": "d1dc24d7",
   "metadata": {},
   "outputs": [],
   "source": [
    "# Install dependencies\n",
    "% uv add \"mcp[cli]\" httpx keyring      # pip install \"mcp[cli]\" httpx"
   ]
  },
  {
   "cell_type": "code",
   "execution_count": null,
   "id": "87c7555b",
   "metadata": {},
   "outputs": [],
   "source": [
    "# Create our server file\n",
    "% touch server.py              # new-item server.py"
   ]
  },
  {
   "cell_type": "code",
   "execution_count": null,
   "id": "70c0ba8a",
   "metadata": {},
   "outputs": [],
   "source": [
    "# Open the current directory in VS Code optionally in your preferred IDE\n",
    "% code ."
   ]
  },
  {
   "cell_type": "markdown",
   "id": "07e1d78e",
   "metadata": {},
   "source": [
    "Copy contents from ./utils/MCP_init into server.py"
   ]
  },
  {
   "cell_type": "code",
   "execution_count": null,
   "id": "b6c997d5",
   "metadata": {},
   "outputs": [],
   "source": [
    "# Run the MCP server\n",
    "! mcp dev server.py"
   ]
  },
  {
   "cell_type": "code",
   "execution_count": null,
   "id": "b443a39e",
   "metadata": {},
   "outputs": [],
   "source": [
    "# Config the MCP server into LMStudio\n",
    "{\n",
    "  \"mcpServers\": {\n",
    "    \"[MCP_NAME]\": {\n",
    "      \"command\": \"uv\",\n",
    "      \"args\": [\n",
    "        \"run\",\n",
    "        \"--with\",\n",
    "        \"[LIBRARIES]\",\n",
    "        \"mcp\",\n",
    "        \"run\",\n",
    "        \"[PATH_TO_SERVER_FILE]\"\n",
    "      ]\n",
    "    }\n",
    "  }\n",
    "}"
   ]
  }
 ],
 "metadata": {
  "kernelspec": {
   "display_name": "ai",
   "language": "python",
   "name": "python3"
  },
  "language_info": {
   "codemirror_mode": {
    "name": "ipython",
    "version": 3
   },
   "file_extension": ".py",
   "mimetype": "text/x-python",
   "name": "python",
   "nbconvert_exporter": "python",
   "pygments_lexer": "ipython3",
   "version": "3.11.13"
  }
 },
 "nbformat": 4,
 "nbformat_minor": 5
}
