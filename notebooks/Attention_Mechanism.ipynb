{
  "nbformat": 4,
  "nbformat_minor": 0,
  "metadata": {
    "colab": {
      "provenance": []
    },
    "kernelspec": {
      "name": "python3",
      "display_name": "Python 3"
    },
    "language_info": {
      "name": "python"
    }
  },
  "cells": [
    {
      "cell_type": "code",
      "execution_count": 1,
      "metadata": {
        "id": "A2VjCEERcSkd"
      },
      "outputs": [],
      "source": [
        "from numpy import array\n",
        "from numpy import random\n",
        "from numpy import dot\n",
        "from scipy.special import softmax"
      ]
    },
    {
      "cell_type": "code",
      "source": [
        "# embeddings de palabras\n",
        "word_1 = array([1, 0, 0]) # Tengo\n",
        "word_2 = array([0, 1, 0]) # hambre\n",
        "word_3 = array([1, 1, 0]) # quiero\n",
        "word_4 = array([0, 0, 1]) # una\n",
        "word_5 = array([1, 1, 1]) # hamburguesa"
      ],
      "metadata": {
        "id": "d2cE4VPzcTq2"
      },
      "execution_count": 2,
      "outputs": []
    },
    {
      "cell_type": "code",
      "source": [
        "# matrices de pesos (Esto debería venir de la red neuronal)\n",
        "W_Q = random.randint(3, size=(3, 3))\n",
        "W_K = random.randint(3, size=(3, 3))\n",
        "W_V = random.randint(3, size=(3, 3))"
      ],
      "metadata": {
        "id": "2HwUX6MbcWcn"
      },
      "execution_count": 3,
      "outputs": []
    },
    {
      "cell_type": "code",
      "source": [
        "# Generamos los vectores de q, k y v para cada palabra. Si los unimos formamos las matrices Q, K y V\n",
        "query_1 = word_1 @ W_Q\n",
        "key_1 = word_1 @ W_K\n",
        "value_1 = word_1 @ W_V\n",
        "\n",
        "query_2 = word_2 @ W_Q\n",
        "key_2 = word_2 @ W_K\n",
        "value_2 = word_2 @ W_V\n",
        "\n",
        "query_3 = word_3 @ W_Q\n",
        "key_3 = word_3 @ W_K\n",
        "value_3 = word_3 @ W_V\n",
        "\n",
        "query_4 = word_4 @ W_Q\n",
        "key_4 = word_4 @ W_K\n",
        "value_4 = word_4 @ W_V\n",
        "\n",
        "query_5 = word_5 @ W_Q\n",
        "key_5 = word_5 @ W_K\n",
        "value_5 = word_5 @ W_V"
      ],
      "metadata": {
        "id": "LUpQbpwPcW3X"
      },
      "execution_count": null,
      "outputs": []
    },
    {
      "cell_type": "code",
      "source": [
        "query_1"
      ],
      "metadata": {
        "colab": {
          "base_uri": "https://localhost:8080/"
        },
        "id": "k1hkIsb-Zu-Z",
        "outputId": "5ff48440-ce01-4fa4-e7ac-9088572ab691"
      },
      "execution_count": null,
      "outputs": [
        {
          "output_type": "execute_result",
          "data": {
            "text/plain": [
              "array([0, 2, 2])"
            ]
          },
          "metadata": {},
          "execution_count": 5
        }
      ]
    },
    {
      "cell_type": "code",
      "source": [
        "# calculamos los puntajes de la palabra perro contra todas las demás\n",
        "scores = array([dot(query_1, key_1), dot(query_1, key_2), dot(query_1, key_3), dot(query_1, key_4), dot(query_1, key_5)])"
      ],
      "metadata": {
        "id": "euEaXzdHcZMv"
      },
      "execution_count": null,
      "outputs": []
    },
    {
      "cell_type": "code",
      "source": [
        "scores"
      ],
      "metadata": {
        "colab": {
          "base_uri": "https://localhost:8080/"
        },
        "id": "lgTVBJbYcZrm",
        "outputId": "8570e0a6-f4a9-4a7b-ab98-92ff5d2df7e8"
      },
      "execution_count": null,
      "outputs": [
        {
          "output_type": "execute_result",
          "data": {
            "text/plain": [
              "array([ 6,  6, 12,  2, 14])"
            ]
          },
          "metadata": {},
          "execution_count": 7
        }
      ]
    },
    {
      "cell_type": "code",
      "source": [
        "# normalizamos los vectores de puntaje (para convertirlos en atención)\n",
        "weights = softmax(scores / key_1.shape[0] ** 0.5)"
      ],
      "metadata": {
        "id": "TmRIcBEocZ9z"
      },
      "execution_count": null,
      "outputs": []
    },
    {
      "cell_type": "code",
      "source": [
        "weights"
      ],
      "metadata": {
        "colab": {
          "base_uri": "https://localhost:8080/"
        },
        "id": "DXHYBDeTcr7J",
        "outputId": "cd94b3d0-0e6e-478e-f0ff-a0d126c3b870"
      },
      "execution_count": null,
      "outputs": [
        {
          "output_type": "execute_result",
          "data": {
            "text/plain": [
              "array([7.38445560e-03, 7.38445560e-03, 2.35916708e-01, 7.33429441e-04,\n",
              "       7.48580951e-01])"
            ]
          },
          "metadata": {},
          "execution_count": 9
        }
      ]
    },
    {
      "cell_type": "code",
      "source": [
        "value_1"
      ],
      "metadata": {
        "colab": {
          "base_uri": "https://localhost:8080/"
        },
        "id": "vcRYqhxyB2R5",
        "outputId": "bd6c370f-52a8-47de-b6d6-ae9df72066bc"
      },
      "execution_count": null,
      "outputs": [
        {
          "output_type": "execute_result",
          "data": {
            "text/plain": [
              "array([2, 2, 1])"
            ]
          },
          "metadata": {},
          "execution_count": 10
        }
      ]
    },
    {
      "cell_type": "code",
      "source": [
        "# obtenemos el vector contextualizado\n",
        "attention = (weights[0] * value_1) + (weights[1] * value_2) + (weights[2] * value_3) + (weights[3] * value_4)\n",
        "\n",
        "print(attention)"
      ],
      "metadata": {
        "colab": {
          "base_uri": "https://localhost:8080/"
        },
        "id": "nWIxNN3LcsY7",
        "outputId": "7d07a470-40c2-49ad-c1ae-348e4a9830e1"
      },
      "execution_count": null,
      "outputs": [
        {
          "output_type": "stream",
          "name": "stdout",
          "text": [
            "[0.48660233 0.97320465 0.24403459]\n"
          ]
        }
      ]
    },
    {
      "cell_type": "code",
      "source": [
        "# en forma matricial\n",
        "words = array([word_1, word_2, word_3, word_4, word_5])\n",
        "\n",
        "Q = words @ W_Q\n",
        "K = words @ W_K\n",
        "V = words @ W_V\n",
        "\n",
        "scores = Q @ K.transpose()\n",
        "\n",
        "weights = softmax(scores / K.shape[1] ** 0.5, axis=1)\n",
        "\n",
        "attention = weights @ V"
      ],
      "metadata": {
        "id": "5WY8tt0V-SAG"
      },
      "execution_count": null,
      "outputs": []
    },
    {
      "cell_type": "code",
      "source": [
        "attention"
      ],
      "metadata": {
        "colab": {
          "base_uri": "https://localhost:8080/"
        },
        "id": "SVmDzo5K-b93",
        "outputId": "b59cd743-94d2-4557-9460-78b6cd7720eb"
      },
      "execution_count": null,
      "outputs": [
        {
          "output_type": "execute_result",
          "data": {
            "text/plain": [
              "array([[1.98376423, 3.96752846, 1.7411965 ],\n",
              "       [1.98272771, 3.95398901, 1.73652501],\n",
              "       [1.9998199 , 3.99950151, 1.90933883],\n",
              "       [1.96505928, 3.68919112, 1.41110709],\n",
              "       [1.99999443, 3.99989502, 1.90960214]])"
            ]
          },
          "metadata": {},
          "execution_count": 13
        }
      ]
    },
    {
      "cell_type": "code",
      "source": [
        "words"
      ],
      "metadata": {
        "colab": {
          "base_uri": "https://localhost:8080/"
        },
        "id": "lveyQZ4o-sOh",
        "outputId": "a5b0387f-ddc2-46de-bd5f-0e0bf1e30662"
      },
      "execution_count": null,
      "outputs": [
        {
          "output_type": "execute_result",
          "data": {
            "text/plain": [
              "array([[1, 0, 0],\n",
              "       [0, 1, 0],\n",
              "       [1, 1, 0],\n",
              "       [0, 0, 1],\n",
              "       [1, 1, 1]])"
            ]
          },
          "metadata": {},
          "execution_count": 14
        }
      ]
    },
    {
      "cell_type": "code",
      "source": [],
      "metadata": {
        "id": "wJGdiisv-ss6"
      },
      "execution_count": null,
      "outputs": []
    }
  ]
}