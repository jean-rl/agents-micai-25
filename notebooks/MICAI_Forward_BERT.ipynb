{
  "cells": [
    {
      "cell_type": "code",
      "execution_count": null,
      "metadata": {
        "id": "8bVrsuMAkDvW"
      },
      "outputs": [],
      "source": [
        "!pip install -q transformers\n",
        "!pip install -q datasets"
      ]
    },
    {
      "cell_type": "code",
      "source": [
        "sentence = \"I read an interesting book\""
      ],
      "metadata": {
        "id": "3vdPcRkOMd2p"
      },
      "execution_count": null,
      "outputs": []
    },
    {
      "cell_type": "code",
      "source": [
        "from transformers import BertTokenizer, BertModel\n",
        "import torch.nn as nn\n",
        "import torch"
      ],
      "metadata": {
        "id": "zzGCk3h_Mn8D"
      },
      "execution_count": null,
      "outputs": []
    },
    {
      "cell_type": "code",
      "source": [
        "class BertEncoder(nn.Module):\n",
        "    def __init__(self, bert_model_name):\n",
        "        super(BertEncoder, self).__init__()\n",
        "        self.bert = BertModel.from_pretrained(bert_model_name)\n",
        "\n",
        "    def forward(self, input_ids, attention_mask):\n",
        "        with torch.no_grad():\n",
        "            outputs = self.bert(input_ids=input_ids, attention_mask=attention_mask)\n",
        "            pooled_output = outputs.pooler_output # Linear Layer and Tanh activation function\n",
        "            sequence_output = outputs.last_hidden_state\n",
        "        return pooled_output, sequence_output"
      ],
      "metadata": {
        "id": "JI9EC3-xPet6"
      },
      "execution_count": null,
      "outputs": []
    },
    {
      "cell_type": "code",
      "source": [
        "tokenizer = BertTokenizer.from_pretrained('bert-base-uncased')"
      ],
      "metadata": {
        "id": "iPqp7cv6Mvec",
        "colab": {
          "base_uri": "https://localhost:8080/",
          "height": 256,
          "referenced_widgets": [
            "344451f16aec4f88bb8820481cdd32d7",
            "e0a34da33b954f09ae6fb28ad48181ca",
            "6a5e5beea3c149f0b1f74258de5d24ce",
            "20caaff9df974b3f98e904ed773b3c07",
            "a15d9a0813274fad80a4ba8aed5d50e7",
            "045e8b8f37f04526980cb0fb5014191c",
            "9a077733a1154b1aa8a06d31c9983cbe",
            "7025cbcdbddb4b10b2b8786c4a6304fe",
            "89f91561c6884d248a946e5d2241bf1b",
            "b9fb9fa53ad4451e99021361f5eabb21",
            "c32ca832e7844818accc0eafea23c159",
            "9f11e260fc3b4ed0befd44b51167caec",
            "c40a9e13e0314dceb20336e729bee3d0",
            "e3b941006be94d65acf5cb4ac8daf543",
            "98e8f0370db84cbfa9cadcffc960231d",
            "861230bbfd664af597b4de49cca94d2e",
            "4a6ab4d2610d4d02b4ecbb6746baa0bd",
            "0930d1e1b5fe4a8b8a1fabed764b40d0",
            "c9018b8e591748eb83b7fbb74b2d1416",
            "11e5e374b69b449283a097fe7414130b",
            "7f15d3c56ca34ba987159e54f5146fb3",
            "9bba2039f00b45f0aab6d6614d58f756",
            "ce33ebd3238644c189f813faebbf8498",
            "21d62a283b7844779f931f290dbef3d3",
            "7325396238a1460f8efc27cb0708e058",
            "b338725f01244400b56088e6812b7972",
            "3dc195f9d2eb42529192a7421248f8a0",
            "4f82b638559b44fcb84b274619d55bd7",
            "d47097017ebe47718ec3abb3105c9efb",
            "0aeeb13a64504bc393fcf2c33f66a3a3",
            "0413981ccc63491e9f1d2811f1fb2124",
            "8f29705b8a6046ccbaf1090dfa42b496",
            "f76706f18aee441d9550c07c7de844b8",
            "5fed41e39ab94d2bb846f28bdcdd63cd",
            "a15ad0a18feb4dfa97aa3a29ce87dbdc",
            "d962014717fc4d11ad7abd31704b71e2",
            "ca4ea4a182aa4c458dc2e5197b40153b",
            "2749418b2fe14001b5eab2017fcb37d7",
            "8c525c2b49b044ecb88343a1bdf97beb",
            "5e44953499ed45d7bfe465f60b701072",
            "f4538eac95e94eef977ebe5ff859affc",
            "0877f833331d4fda9eb6627458c78d0e",
            "af8bf99a81f14d54855cfcb2f4652999",
            "36609a4ed9624178a16d51f4a0bf4a65"
          ]
        },
        "outputId": "efefd060-008c-4626-8699-e44778318265"
      },
      "execution_count": null,
      "outputs": [
        {
          "output_type": "stream",
          "name": "stderr",
          "text": [
            "/usr/local/lib/python3.12/dist-packages/huggingface_hub/utils/_auth.py:94: UserWarning: \n",
            "The secret `HF_TOKEN` does not exist in your Colab secrets.\n",
            "To authenticate with the Hugging Face Hub, create a token in your settings tab (https://huggingface.co/settings/tokens), set it as secret in your Google Colab and restart your session.\n",
            "You will be able to reuse this secret in all of your notebooks.\n",
            "Please note that authentication is recommended but still optional to access public models or datasets.\n",
            "  warnings.warn(\n"
          ]
        },
        {
          "output_type": "display_data",
          "data": {
            "text/plain": [
              "tokenizer_config.json:   0%|          | 0.00/48.0 [00:00<?, ?B/s]"
            ],
            "application/vnd.jupyter.widget-view+json": {
              "version_major": 2,
              "version_minor": 0,
              "model_id": "344451f16aec4f88bb8820481cdd32d7"
            }
          },
          "metadata": {}
        },
        {
          "output_type": "display_data",
          "data": {
            "text/plain": [
              "vocab.txt:   0%|          | 0.00/232k [00:00<?, ?B/s]"
            ],
            "application/vnd.jupyter.widget-view+json": {
              "version_major": 2,
              "version_minor": 0,
              "model_id": "9f11e260fc3b4ed0befd44b51167caec"
            }
          },
          "metadata": {}
        },
        {
          "output_type": "display_data",
          "data": {
            "text/plain": [
              "tokenizer.json:   0%|          | 0.00/466k [00:00<?, ?B/s]"
            ],
            "application/vnd.jupyter.widget-view+json": {
              "version_major": 2,
              "version_minor": 0,
              "model_id": "ce33ebd3238644c189f813faebbf8498"
            }
          },
          "metadata": {}
        },
        {
          "output_type": "display_data",
          "data": {
            "text/plain": [
              "config.json:   0%|          | 0.00/570 [00:00<?, ?B/s]"
            ],
            "application/vnd.jupyter.widget-view+json": {
              "version_major": 2,
              "version_minor": 0,
              "model_id": "5fed41e39ab94d2bb846f28bdcdd63cd"
            }
          },
          "metadata": {}
        }
      ]
    },
    {
      "cell_type": "code",
      "source": [
        "tokenizer.tokenize(sentence)"
      ],
      "metadata": {
        "colab": {
          "base_uri": "https://localhost:8080/"
        },
        "id": "PuSX4gYIRhBX",
        "outputId": "54a7ef0f-d22a-4d45-f350-7dfb38a85f78"
      },
      "execution_count": null,
      "outputs": [
        {
          "output_type": "execute_result",
          "data": {
            "text/plain": [
              "['i', 'read', 'an', 'interesting', 'book']"
            ]
          },
          "metadata": {},
          "execution_count": 6
        }
      ]
    },
    {
      "cell_type": "code",
      "source": [
        "tokenized_sentence = tokenizer(text=sentence, add_special_tokens=True, return_attention_mask=True, return_tensors='pt')"
      ],
      "metadata": {
        "id": "J-EhtgZ-Mp8f"
      },
      "execution_count": null,
      "outputs": []
    },
    {
      "cell_type": "code",
      "source": [
        "tokenized_sentence"
      ],
      "metadata": {
        "colab": {
          "base_uri": "https://localhost:8080/"
        },
        "id": "bbwkB55kOQYP",
        "outputId": "641a179d-18b9-4d4d-b7e5-d305818bbcc7"
      },
      "execution_count": null,
      "outputs": [
        {
          "output_type": "execute_result",
          "data": {
            "text/plain": [
              "{'input_ids': tensor([[ 101, 1045, 3191, 2019, 5875, 2338,  102]]), 'token_type_ids': tensor([[0, 0, 0, 0, 0, 0, 0]]), 'attention_mask': tensor([[1, 1, 1, 1, 1, 1, 1]])}"
            ]
          },
          "metadata": {},
          "execution_count": 8
        }
      ]
    },
    {
      "cell_type": "code",
      "source": [
        "tokenizer.convert_ids_to_tokens(tokenizer(text=sentence, add_special_tokens=True, return_attention_mask=True)[\"input_ids\"])"
      ],
      "metadata": {
        "colab": {
          "base_uri": "https://localhost:8080/"
        },
        "id": "UCkFlTPbVF24",
        "outputId": "e0d99c52-ae8f-4727-a2aa-283e988026fb"
      },
      "execution_count": null,
      "outputs": [
        {
          "output_type": "execute_result",
          "data": {
            "text/plain": [
              "['[CLS]', 'i', 'read', 'an', 'interesting', 'book', '[SEP]']"
            ]
          },
          "metadata": {},
          "execution_count": 9
        }
      ]
    },
    {
      "cell_type": "code",
      "source": [
        "input_ids = tokenized_sentence[\"input_ids\"]\n",
        "attention_mask = tokenized_sentence[\"attention_mask\"]"
      ],
      "metadata": {
        "id": "I8IqQROSPpek"
      },
      "execution_count": null,
      "outputs": []
    },
    {
      "cell_type": "code",
      "source": [
        "input_ids"
      ],
      "metadata": {
        "colab": {
          "base_uri": "https://localhost:8080/"
        },
        "id": "ZtWDmtKdQynh",
        "outputId": "b3dca6ee-2cee-42e9-9a87-6f2749f9bf56"
      },
      "execution_count": null,
      "outputs": [
        {
          "output_type": "execute_result",
          "data": {
            "text/plain": [
              "tensor([[ 101, 1045, 3191, 2019, 5875, 2338,  102]])"
            ]
          },
          "metadata": {},
          "execution_count": 11
        }
      ]
    },
    {
      "cell_type": "code",
      "source": [
        "attention_mask"
      ],
      "metadata": {
        "colab": {
          "base_uri": "https://localhost:8080/"
        },
        "id": "pnTCX4xfRwtR",
        "outputId": "59dd2617-fa5e-43b3-fb4b-e9689567bc74"
      },
      "execution_count": null,
      "outputs": [
        {
          "output_type": "execute_result",
          "data": {
            "text/plain": [
              "tensor([[1, 1, 1, 1, 1, 1, 1]])"
            ]
          },
          "metadata": {},
          "execution_count": 12
        }
      ]
    },
    {
      "cell_type": "code",
      "source": [
        "model = BertEncoder(\"bert-base-uncased\")"
      ],
      "metadata": {
        "colab": {
          "base_uri": "https://localhost:8080/",
          "height": 49,
          "referenced_widgets": [
            "6801ea2bfa114076b5661aa441f9de31",
            "13660942f4a54cdcad4fbf733ddf205b",
            "df0f3b527d8e4ba58d930d4aeea25364",
            "0d3aca57fb364473ae089714e56bca5b",
            "ad093463aeb04e7cb10b7939f18d2814",
            "e25515f93b7f484ab77e5957eeb1bab5",
            "d6993f5c0bcf44fb996f22b5ecf69ea2",
            "419df1eb3b6448d088fb0f1552b1a8e2",
            "879a1b998de04f5f9315459e954b41bb",
            "5723c43a4faa43cb81d22697f9e4cf76",
            "555cf05e413145e19a6b487b3574fef0"
          ]
        },
        "id": "OR_WOAr6PxdK",
        "outputId": "f81e2d80-a768-4926-818a-b8f98bcbce96"
      },
      "execution_count": null,
      "outputs": [
        {
          "output_type": "display_data",
          "data": {
            "text/plain": [
              "model.safetensors:   0%|          | 0.00/440M [00:00<?, ?B/s]"
            ],
            "application/vnd.jupyter.widget-view+json": {
              "version_major": 2,
              "version_minor": 0,
              "model_id": "6801ea2bfa114076b5661aa441f9de31"
            }
          },
          "metadata": {}
        }
      ]
    },
    {
      "cell_type": "code",
      "source": [
        "model.bert.config"
      ],
      "metadata": {
        "colab": {
          "base_uri": "https://localhost:8080/"
        },
        "id": "CphDdzgBStZQ",
        "outputId": "76cce101-badd-4197-87e5-9107d4f19a0a"
      },
      "execution_count": null,
      "outputs": [
        {
          "output_type": "execute_result",
          "data": {
            "text/plain": [
              "BertConfig {\n",
              "  \"architectures\": [\n",
              "    \"BertForMaskedLM\"\n",
              "  ],\n",
              "  \"attention_probs_dropout_prob\": 0.1,\n",
              "  \"classifier_dropout\": null,\n",
              "  \"dtype\": \"float32\",\n",
              "  \"gradient_checkpointing\": false,\n",
              "  \"hidden_act\": \"gelu\",\n",
              "  \"hidden_dropout_prob\": 0.1,\n",
              "  \"hidden_size\": 768,\n",
              "  \"initializer_range\": 0.02,\n",
              "  \"intermediate_size\": 3072,\n",
              "  \"layer_norm_eps\": 1e-12,\n",
              "  \"max_position_embeddings\": 512,\n",
              "  \"model_type\": \"bert\",\n",
              "  \"num_attention_heads\": 12,\n",
              "  \"num_hidden_layers\": 12,\n",
              "  \"pad_token_id\": 0,\n",
              "  \"position_embedding_type\": \"absolute\",\n",
              "  \"transformers_version\": \"4.57.1\",\n",
              "  \"type_vocab_size\": 2,\n",
              "  \"use_cache\": true,\n",
              "  \"vocab_size\": 30522\n",
              "}"
            ]
          },
          "metadata": {},
          "execution_count": 14
        }
      ]
    },
    {
      "cell_type": "code",
      "source": [
        "output = model.forward(input_ids, attention_mask)"
      ],
      "metadata": {
        "id": "UmX4zcjzP5b8"
      },
      "execution_count": null,
      "outputs": []
    },
    {
      "cell_type": "code",
      "source": [
        "len(output)"
      ],
      "metadata": {
        "colab": {
          "base_uri": "https://localhost:8080/"
        },
        "id": "d2mTeRM9RT9c",
        "outputId": "bb8e3ba2-da2d-46bb-d5c0-05c87785cc82"
      },
      "execution_count": null,
      "outputs": [
        {
          "output_type": "execute_result",
          "data": {
            "text/plain": [
              "2"
            ]
          },
          "metadata": {},
          "execution_count": 16
        }
      ]
    },
    {
      "cell_type": "code",
      "source": [
        "output[0].shape"
      ],
      "metadata": {
        "colab": {
          "base_uri": "https://localhost:8080/"
        },
        "id": "EWXsODsCSQTU",
        "outputId": "22e875d6-9e31-4b26-df3b-8fd21dcf8257"
      },
      "execution_count": null,
      "outputs": [
        {
          "output_type": "execute_result",
          "data": {
            "text/plain": [
              "torch.Size([1, 768])"
            ]
          },
          "metadata": {},
          "execution_count": 17
        }
      ]
    },
    {
      "cell_type": "code",
      "source": [
        "output[0]"
      ],
      "metadata": {
        "colab": {
          "base_uri": "https://localhost:8080/"
        },
        "id": "e3uJoGLl6j8q",
        "outputId": "83657d14-4793-45e1-d4f1-31a2e3f9a301"
      },
      "execution_count": null,
      "outputs": [
        {
          "output_type": "execute_result",
          "data": {
            "text/plain": [
              "tensor([[-6.9454e-01, -1.1729e-01,  7.4710e-01,  2.9774e-01, -3.8085e-01,\n",
              "         -1.8350e-02,  6.9451e-01,  1.6230e-01,  4.8279e-01, -9.9769e-01,\n",
              "          2.8250e-01, -5.1387e-02,  9.6195e-01, -5.1735e-01,  8.4172e-01,\n",
              "         -2.2652e-01,  2.1032e-01, -4.1382e-01,  2.4640e-01, -2.7574e-01,\n",
              "          3.5597e-01,  2.5157e-01,  6.6049e-01,  1.8611e-01,  1.8761e-01,\n",
              "         -1.8671e-01, -3.1185e-01,  8.6501e-01,  8.8723e-01,  5.4346e-01,\n",
              "         -3.9717e-01,  1.0478e-01, -9.6906e-01, -6.3697e-02,  7.4102e-01,\n",
              "         -9.5831e-01,  1.0043e-02, -5.9722e-01,  7.7998e-02,  1.5658e-01,\n",
              "         -8.0847e-01,  1.7895e-01,  9.5660e-01, -4.0519e-01, -1.2422e-01,\n",
              "         -2.1704e-01, -9.7061e-01,  1.1867e-01, -7.2374e-01, -7.0554e-01,\n",
              "         -5.2738e-01, -6.7143e-01, -3.5462e-03,  1.8794e-01,  1.8016e-01,\n",
              "          5.7383e-01, -2.4321e-01,  1.8786e-02, -1.4217e-02, -2.8539e-01,\n",
              "         -5.1701e-01,  1.4996e-01,  4.2380e-01, -7.7169e-01, -5.5731e-01,\n",
              "         -7.8177e-01, -7.3886e-03, -9.6558e-02,  1.3494e-01, -8.0462e-02,\n",
              "          6.0212e-01,  1.1168e-01,  3.2262e-01, -7.3543e-01, -6.9695e-01,\n",
              "          5.5136e-02, -3.2285e-01,  9.9788e-01, -1.2984e-02, -9.4021e-01,\n",
              "         -5.5812e-01, -5.7909e-01,  1.9228e-01,  7.6585e-01, -7.7643e-01,\n",
              "         -9.9166e-01,  1.5112e-01,  4.3103e-03, -9.7542e-01,  5.0945e-02,\n",
              "          2.0714e-01, -1.0609e-01, -7.1828e-01,  2.5690e-01,  1.6260e-01,\n",
              "         -6.7447e-02, -1.0062e-01,  6.3314e-01,  4.9129e-03,  1.5561e-01,\n",
              "         -4.9160e-02, -4.3366e-02,  9.4995e-02, -1.0844e-01, -4.1052e-02,\n",
              "         -2.1324e-01, -1.1734e-01, -1.4283e-02, -3.6618e-01,  3.9886e-01,\n",
              "          2.3779e-01, -1.5739e-01,  1.0372e-01, -9.0435e-01,  4.5875e-01,\n",
              "         -5.2609e-02, -9.5648e-01, -2.2971e-01, -9.7204e-01,  4.5327e-01,\n",
              "          2.2156e-01, -4.4210e-02,  8.9078e-01,  7.2768e-01,  1.4065e-01,\n",
              "          1.3698e-01,  6.2972e-01, -9.9864e-01, -6.5171e-02,  8.0558e-02,\n",
              "          3.7606e-01, -2.2680e-03, -9.3406e-01, -8.9914e-01,  3.2444e-01,\n",
              "          8.7805e-01, -1.7469e-02,  9.5232e-01, -4.5870e-02,  8.6115e-01,\n",
              "          3.9529e-01,  1.0290e-01, -4.6179e-01, -2.4461e-01,  9.8282e-04,\n",
              "          3.0349e-02, -2.2524e-01,  6.6510e-02,  3.1501e-01, -1.6533e-01,\n",
              "          2.5670e-01, -8.5029e-02,  6.1722e-01, -8.6747e-01, -2.4920e-01,\n",
              "          8.7564e-01,  3.3817e-01,  7.5239e-01,  7.3267e-01,  1.5046e-02,\n",
              "         -1.0623e-01,  6.3767e-01,  7.6501e-02,  2.0069e-01,  5.5910e-02,\n",
              "          2.2887e-01, -5.0924e-01,  2.4600e-01, -6.9590e-01,  2.8504e-01,\n",
              "          1.6938e-01, -7.5829e-02,  6.9737e-01, -9.4886e-01, -8.1970e-02,\n",
              "          2.5595e-01,  9.6415e-01,  5.0249e-01, -1.5031e-02, -2.9163e-01,\n",
              "         -8.8261e-02,  1.3838e-01, -8.6449e-01,  9.4172e-01, -1.9693e-02,\n",
              "          1.2127e-01,  4.6883e-01, -2.7399e-01, -7.1205e-01, -5.4175e-01,\n",
              "          5.4428e-01,  5.8109e-02, -7.1642e-01,  1.2490e-01, -3.0579e-01,\n",
              "         -1.8976e-01,  3.4874e-01,  1.4429e-01, -1.4345e-01, -3.2826e-01,\n",
              "          5.8204e-02,  8.5148e-01,  7.8422e-01,  5.1624e-01, -6.9023e-01,\n",
              "          2.3498e-01, -7.8889e-01, -2.5788e-01, -5.7339e-02,  3.7256e-02,\n",
              "         -7.4412e-02,  9.8036e-01,  2.2300e-01,  9.6477e-03, -8.1806e-01,\n",
              "         -9.5910e-01, -1.0194e-01, -7.5285e-01,  9.8667e-02, -4.0945e-01,\n",
              "          1.3565e-02,  6.0722e-01, -4.2708e-01,  2.3378e-01, -8.8089e-01,\n",
              "         -6.3016e-01,  1.2047e-01, -1.0039e-01,  1.6750e-01, -1.8242e-01,\n",
              "          5.3582e-01, -5.6602e-01, -2.8200e-01,  3.5228e-01,  7.6500e-01,\n",
              "          6.8708e-01, -5.1170e-01,  5.1700e-01, -1.1363e-01,  6.9015e-01,\n",
              "         -4.0241e-01,  8.3873e-01, -3.4616e-01,  2.6486e-01, -8.2718e-01,\n",
              "          6.5701e-01, -6.5106e-01,  5.4719e-01,  1.4073e-02, -7.8858e-01,\n",
              "         -5.7686e-01,  2.4054e-01,  1.1933e-01,  8.9249e-01, -2.5948e-01,\n",
              "          9.1370e-01, -5.6181e-01, -8.9654e-01, -1.8437e-01,  1.8719e-01,\n",
              "         -9.6345e-01, -4.6788e-01,  1.0029e-01, -6.5288e-01, -8.5576e-02,\n",
              "         -1.8436e-01, -9.0325e-01,  4.9663e-01,  2.8127e-02,  8.7778e-01,\n",
              "          2.7486e-01, -6.9103e-01, -1.1757e-02, -8.0266e-01, -2.1689e-01,\n",
              "          1.1068e-01,  7.2435e-01, -2.0617e-01, -8.9618e-01,  3.0909e-01,\n",
              "          4.0885e-01,  2.2224e-01,  8.3270e-01,  9.3870e-01,  9.2286e-01,\n",
              "          9.4238e-01,  7.6267e-01,  6.5396e-01, -1.0555e-01, -3.7008e-02,\n",
              "          9.9888e-01,  1.2322e-01, -9.8647e-01, -8.4956e-01, -3.5458e-01,\n",
              "          1.6325e-01, -9.9843e-01, -3.3460e-02,  1.3099e-01, -8.2257e-01,\n",
              "         -5.6872e-01,  9.4364e-01,  8.7225e-01, -9.9691e-01,  6.8996e-01,\n",
              "          8.6263e-01, -2.8779e-01, -8.2967e-02, -4.3757e-02,  9.4850e-01,\n",
              "          9.0317e-02,  3.0734e-01, -1.7429e-02,  2.1239e-01,  4.6141e-01,\n",
              "         -5.6244e-01,  6.2022e-01,  6.1625e-01, -3.3770e-01,  1.1362e-02,\n",
              "         -4.1440e-01, -8.0274e-01, -2.7929e-01, -2.0250e-02, -4.6653e-01,\n",
              "         -9.0428e-01,  1.0971e-02, -5.3811e-01,  4.9155e-01, -1.4388e-02,\n",
              "          5.9085e-02, -5.4814e-01,  2.3208e-02, -7.9028e-01,  1.4208e-01,\n",
              "          3.8414e-01, -8.6732e-01, -3.0890e-01,  2.2916e-02, -5.4601e-01,\n",
              "          5.9393e-01, -8.9042e-01,  9.0873e-01, -1.8160e-01, -4.8991e-01,\n",
              "          9.9746e-01, -3.5519e-01, -6.7980e-01,  4.9576e-02, -1.7174e-02,\n",
              "         -1.2680e-01,  9.9445e-01,  4.8635e-02, -9.4633e-01, -2.2116e-01,\n",
              "         -1.5013e-01, -1.5099e-01, -8.1829e-02,  9.8378e-01, -5.9439e-02,\n",
              "          6.0010e-01,  5.9866e-01,  9.3532e-01, -9.6993e-01, -3.7184e-01,\n",
              "         -7.7442e-01, -9.1997e-01,  9.1431e-01,  8.7171e-01,  1.2274e-01,\n",
              "         -3.4153e-01, -4.6604e-02,  5.1727e-01,  7.6161e-02, -8.5220e-01,\n",
              "          3.5311e-01,  2.3384e-01,  1.7210e-02,  8.2232e-01, -4.3698e-01,\n",
              "         -2.6607e-01,  2.2879e-01,  3.4326e-01,  4.4115e-01, -5.3487e-01,\n",
              "          2.0342e-01, -9.4625e-02, -8.1368e-02, -1.1766e-01, -3.4140e-01,\n",
              "         -9.2903e-01, -1.3179e-01,  9.9448e-01,  2.5743e-01, -5.8345e-01,\n",
              "          1.0937e-01,  3.4204e-02, -3.6692e-01,  1.3070e-01,  1.9928e-01,\n",
              "         -1.8800e-01, -6.6834e-01, -3.4420e-01, -7.1848e-01, -9.6543e-01,\n",
              "          4.5880e-01,  4.2745e-02, -1.3460e-01,  9.1111e-01, -9.2654e-02,\n",
              "         -4.0715e-02, -2.8238e-01, -3.3034e-01, -1.0440e-01,  3.0634e-01,\n",
              "         -7.8548e-01,  9.3015e-01, -1.3395e-01,  1.6696e-01,  5.2450e-01,\n",
              "          7.0706e-01, -1.3446e-01, -4.4229e-01, -6.7680e-02, -8.5628e-01,\n",
              "          1.7993e-01, -8.6487e-01,  8.8703e-01, -7.1113e-01,  1.1473e-01,\n",
              "         -2.1872e-02, -4.2439e-01,  9.9667e-01, -1.7994e-01,  3.6615e-01,\n",
              "          5.5710e-02,  5.5537e-01,  1.0883e-02, -4.8750e-01, -2.4324e-01,\n",
              "          9.8021e-02,  7.2947e-01, -1.5368e-01,  1.0888e-01, -9.1521e-01,\n",
              "         -6.6525e-01, -4.6369e-01, -8.6308e-01, -9.7153e-01,  6.3769e-01,\n",
              "          3.1718e-01, -8.4933e-02,  3.0927e-01, -4.2666e-01, -4.8958e-01,\n",
              "         -7.2409e-02, -9.4887e-03, -8.7177e-01,  7.3609e-01, -7.3013e-02,\n",
              "          2.0035e-01, -8.4912e-02,  2.8777e-01, -7.3293e-01,  8.7409e-01,\n",
              "          7.3602e-01,  2.5512e-01, -1.3719e-02, -5.4509e-01,  5.8554e-01,\n",
              "         -4.9818e-01,  5.6254e-01, -1.9282e-02,  9.9839e-01, -1.6893e-01,\n",
              "         -6.1770e-01,  4.0059e-01,  3.3525e-01,  9.0357e-02,  1.1036e-01,\n",
              "         -6.3764e-01,  6.7948e-02,  7.4196e-01,  7.4297e-01, -8.3626e-02,\n",
              "         -1.5045e-02,  2.1467e-01, -6.2229e-01, -7.0591e-01,  6.1470e-01,\n",
              "          8.4492e-03, -6.9416e-02,  1.8668e-01, -1.2152e-02,  9.5478e-01,\n",
              "         -1.9818e-02, -1.2479e-02, -1.0897e-01,  4.5246e-02, -1.4793e-01,\n",
              "         -1.1286e-01,  9.9178e-01,  1.6357e-01, -3.6018e-01, -9.7640e-01,\n",
              "          4.7053e-01, -7.0933e-01,  8.1729e-01,  5.7044e-01, -6.1855e-01,\n",
              "          2.4836e-01,  1.4569e-01, -5.7371e-03,  3.4787e-01,  1.0380e-02,\n",
              "         -1.3647e-01,  6.0401e-02,  6.3485e-02,  9.0115e-01, -2.4291e-01,\n",
              "         -9.1869e-01, -2.4924e-01,  1.8360e-01, -9.1362e-01,  8.1515e-02,\n",
              "         -2.8091e-01, -4.8256e-02, -1.6891e-01,  3.8634e-01,  4.8003e-02,\n",
              "         -1.7210e-01, -9.4564e-01, -1.7365e-02, -1.0133e-01,  8.9467e-01,\n",
              "          7.7614e-02, -2.1253e-01, -7.5746e-01, -7.0706e-01, -4.1148e-01,\n",
              "          6.3188e-01, -8.9148e-01,  9.3242e-01, -9.3903e-01,  1.9613e-01,\n",
              "          9.8630e-01,  1.1261e-01, -7.3675e-01,  3.1833e-02, -8.3737e-02,\n",
              "          8.9998e-02,  3.4692e-01,  3.4940e-01, -8.9250e-01, -9.3070e-02,\n",
              "         -5.2021e-02,  2.7960e-03,  7.0845e-02,  4.5650e-01,  4.8238e-01,\n",
              "          1.1646e-01, -1.9786e-01, -3.7285e-01,  6.0582e-02,  1.8481e-01,\n",
              "          4.2040e-01, -1.4744e-01,  4.5188e-02, -6.8348e-02, -2.6574e-02,\n",
              "         -7.4108e-01, -6.8380e-02, -4.9921e-02, -5.9285e-01,  3.0348e-01,\n",
              "         -9.9775e-01, -5.6903e-01, -7.2299e-01, -1.0644e-01,  6.5234e-01,\n",
              "          9.5828e-02, -3.1823e-01, -4.7474e-01,  6.8888e-01,  8.9098e-01,\n",
              "          5.1906e-01,  9.3968e-02,  3.4354e-01, -4.3559e-01, -1.3243e-02,\n",
              "          2.7669e-02,  1.0793e-01,  4.1981e-01,  6.0633e-01, -7.6882e-02,\n",
              "          9.9837e-01, -6.6981e-02, -1.3880e-01, -8.0835e-01,  9.3961e-02,\n",
              "         -3.2753e-02,  9.5105e-01, -5.1001e-01, -8.9104e-01,  1.1390e-01,\n",
              "         -1.2860e-01, -6.2720e-01,  7.2768e-02, -8.2807e-02, -4.3325e-01,\n",
              "          4.8929e-01,  8.7312e-01,  3.9522e-01, -2.8422e-01,  2.5168e-01,\n",
              "         -1.0510e-01, -7.2000e-02, -8.5731e-02, -6.5411e-01,  9.7007e-01,\n",
              "          1.1743e-01,  5.4836e-01,  5.8711e-01,  2.3885e-01,  9.1390e-01,\n",
              "          5.1760e-02,  6.3513e-02, -4.9478e-02,  9.8999e-01,  1.5917e-01,\n",
              "         -8.1930e-01,  4.1351e-01, -9.4665e-01,  7.0295e-04, -8.4618e-01,\n",
              "          1.5114e-01, -1.0050e-01,  7.1414e-01, -8.9118e-02,  8.9010e-01,\n",
              "          6.8688e-01, -8.3131e-02,  3.0100e-01,  7.5236e-01,  2.3406e-01,\n",
              "         -8.0119e-01, -9.6572e-01, -9.6344e-01, -2.3577e-02, -2.2384e-01,\n",
              "          8.0439e-02,  1.7015e-01, -1.8575e-02,  8.5794e-02,  1.4317e-01,\n",
              "         -9.8742e-01,  8.1904e-01,  1.8977e-01, -7.0766e-01,  9.2901e-01,\n",
              "         -1.8908e-02,  2.4385e-02,  7.2367e-02, -9.6026e-01, -7.7696e-01,\n",
              "         -1.4499e-01, -1.7317e-01,  4.8714e-01,  3.5234e-01,  7.0952e-01,\n",
              "          1.4459e-01, -4.0363e-01, -1.7316e-01,  5.8703e-01, -2.9936e-01,\n",
              "         -9.7613e-01,  2.5925e-01,  6.2674e-01, -7.1544e-01,  8.9807e-01,\n",
              "         -6.8695e-01, -8.9900e-02,  7.4224e-01,  3.5898e-01,  6.3573e-01,\n",
              "          4.7544e-01,  1.3960e-01, -9.2732e-03,  3.1908e-01,  7.4151e-01,\n",
              "          8.0265e-01,  9.6786e-01,  6.0643e-01,  3.6340e-01,  5.3608e-01,\n",
              "          1.8071e-01,  6.2850e-01, -8.4089e-01, -5.1064e-02, -2.7699e-01,\n",
              "          2.5347e-01,  8.4808e-02, -4.7933e-02, -8.0566e-01,  3.2966e-01,\n",
              "         -4.7775e-02,  2.5871e-01, -2.0590e-01,  2.1646e-01, -2.2764e-01,\n",
              "         -8.2900e-02, -5.1402e-01, -1.4022e-01,  3.8184e-01,  4.0360e-02,\n",
              "          8.0095e-01,  1.9358e-02,  5.9200e-02, -3.6166e-01,  6.5859e-02,\n",
              "          6.9185e-01, -8.5069e-01,  6.9421e-01,  1.6665e-01,  6.9245e-01,\n",
              "         -6.3520e-01, -2.0701e-01,  7.3925e-01, -6.0539e-01, -1.0536e-01,\n",
              "         -3.8275e-02, -4.2214e-01,  6.8797e-01, -1.6259e-01, -2.1238e-01,\n",
              "         -1.1094e-01,  5.0549e-01,  1.7295e-01,  3.3743e-01,  5.5471e-01,\n",
              "          5.2768e-01,  3.9762e-02, -2.9923e-02,  1.2380e-01, -3.1272e-02,\n",
              "         -9.8985e-01,  1.4199e-01,  3.9692e-01, -4.4787e-01,  3.7971e-01,\n",
              "         -6.1150e-01,  2.5449e-01, -8.8149e-01,  4.6817e-05, -1.7137e-01,\n",
              "         -5.2264e-01, -3.8223e-01,  7.9198e-02,  2.2734e-01,  5.3436e-01,\n",
              "         -2.2011e-01,  7.5084e-01,  4.9194e-01,  7.4204e-01,  2.8323e-01,\n",
              "          4.5244e-01, -4.9145e-01,  7.3814e-01]])"
            ]
          },
          "metadata": {},
          "execution_count": 18
        }
      ]
    },
    {
      "cell_type": "code",
      "source": [
        "output[1].shape"
      ],
      "metadata": {
        "colab": {
          "base_uri": "https://localhost:8080/"
        },
        "id": "wI-Nc0kGSTu4",
        "outputId": "8f06850d-c831-46ab-9df3-89c1ff2202db"
      },
      "execution_count": null,
      "outputs": [
        {
          "output_type": "execute_result",
          "data": {
            "text/plain": [
              "torch.Size([1, 7, 768])"
            ]
          },
          "metadata": {},
          "execution_count": 20
        }
      ]
    },
    {
      "cell_type": "code",
      "source": [
        "input_ids.shape"
      ],
      "metadata": {
        "colab": {
          "base_uri": "https://localhost:8080/"
        },
        "id": "uh90US9oSVWZ",
        "outputId": "060d026e-d2fb-4827-b5d8-76af616d4032"
      },
      "execution_count": null,
      "outputs": [
        {
          "output_type": "execute_result",
          "data": {
            "text/plain": [
              "torch.Size([1, 7])"
            ]
          },
          "metadata": {},
          "execution_count": 21
        }
      ]
    }
  ],
  "metadata": {
    "colab": {
      "provenance": []
    },
    "kernelspec": {
      "display_name": "Python 3",
      "name": "python3"
    },
    "language_info": {
      "name": "python"
    },
    "widgets": {
      "application/vnd.jupyter.widget-state+json": {
        "344451f16aec4f88bb8820481cdd32d7": {
          "model_module": "@jupyter-widgets/controls",
          "model_name": "HBoxModel",
          "model_module_version": "1.5.0",
          "state": {
            "_dom_classes": [],
            "_model_module": "@jupyter-widgets/controls",
            "_model_module_version": "1.5.0",
            "_model_name": "HBoxModel",
            "_view_count": null,
            "_view_module": "@jupyter-widgets/controls",
            "_view_module_version": "1.5.0",
            "_view_name": "HBoxView",
            "box_style": "",
            "children": [
              "IPY_MODEL_e0a34da33b954f09ae6fb28ad48181ca",
              "IPY_MODEL_6a5e5beea3c149f0b1f74258de5d24ce",
              "IPY_MODEL_20caaff9df974b3f98e904ed773b3c07"
            ],
            "layout": "IPY_MODEL_a15d9a0813274fad80a4ba8aed5d50e7"
          }
        },
        "e0a34da33b954f09ae6fb28ad48181ca": {
          "model_module": "@jupyter-widgets/controls",
          "model_name": "HTMLModel",
          "model_module_version": "1.5.0",
          "state": {
            "_dom_classes": [],
            "_model_module": "@jupyter-widgets/controls",
            "_model_module_version": "1.5.0",
            "_model_name": "HTMLModel",
            "_view_count": null,
            "_view_module": "@jupyter-widgets/controls",
            "_view_module_version": "1.5.0",
            "_view_name": "HTMLView",
            "description": "",
            "description_tooltip": null,
            "layout": "IPY_MODEL_045e8b8f37f04526980cb0fb5014191c",
            "placeholder": "​",
            "style": "IPY_MODEL_9a077733a1154b1aa8a06d31c9983cbe",
            "value": "tokenizer_config.json: 100%"
          }
        },
        "6a5e5beea3c149f0b1f74258de5d24ce": {
          "model_module": "@jupyter-widgets/controls",
          "model_name": "FloatProgressModel",
          "model_module_version": "1.5.0",
          "state": {
            "_dom_classes": [],
            "_model_module": "@jupyter-widgets/controls",
            "_model_module_version": "1.5.0",
            "_model_name": "FloatProgressModel",
            "_view_count": null,
            "_view_module": "@jupyter-widgets/controls",
            "_view_module_version": "1.5.0",
            "_view_name": "ProgressView",
            "bar_style": "success",
            "description": "",
            "description_tooltip": null,
            "layout": "IPY_MODEL_7025cbcdbddb4b10b2b8786c4a6304fe",
            "max": 48,
            "min": 0,
            "orientation": "horizontal",
            "style": "IPY_MODEL_89f91561c6884d248a946e5d2241bf1b",
            "value": 48
          }
        },
        "20caaff9df974b3f98e904ed773b3c07": {
          "model_module": "@jupyter-widgets/controls",
          "model_name": "HTMLModel",
          "model_module_version": "1.5.0",
          "state": {
            "_dom_classes": [],
            "_model_module": "@jupyter-widgets/controls",
            "_model_module_version": "1.5.0",
            "_model_name": "HTMLModel",
            "_view_count": null,
            "_view_module": "@jupyter-widgets/controls",
            "_view_module_version": "1.5.0",
            "_view_name": "HTMLView",
            "description": "",
            "description_tooltip": null,
            "layout": "IPY_MODEL_b9fb9fa53ad4451e99021361f5eabb21",
            "placeholder": "​",
            "style": "IPY_MODEL_c32ca832e7844818accc0eafea23c159",
            "value": " 48.0/48.0 [00:00&lt;00:00, 3.97kB/s]"
          }
        },
        "a15d9a0813274fad80a4ba8aed5d50e7": {
          "model_module": "@jupyter-widgets/base",
          "model_name": "LayoutModel",
          "model_module_version": "1.2.0",
          "state": {
            "_model_module": "@jupyter-widgets/base",
            "_model_module_version": "1.2.0",
            "_model_name": "LayoutModel",
            "_view_count": null,
            "_view_module": "@jupyter-widgets/base",
            "_view_module_version": "1.2.0",
            "_view_name": "LayoutView",
            "align_content": null,
            "align_items": null,
            "align_self": null,
            "border": null,
            "bottom": null,
            "display": null,
            "flex": null,
            "flex_flow": null,
            "grid_area": null,
            "grid_auto_columns": null,
            "grid_auto_flow": null,
            "grid_auto_rows": null,
            "grid_column": null,
            "grid_gap": null,
            "grid_row": null,
            "grid_template_areas": null,
            "grid_template_columns": null,
            "grid_template_rows": null,
            "height": null,
            "justify_content": null,
            "justify_items": null,
            "left": null,
            "margin": null,
            "max_height": null,
            "max_width": null,
            "min_height": null,
            "min_width": null,
            "object_fit": null,
            "object_position": null,
            "order": null,
            "overflow": null,
            "overflow_x": null,
            "overflow_y": null,
            "padding": null,
            "right": null,
            "top": null,
            "visibility": null,
            "width": null
          }
        },
        "045e8b8f37f04526980cb0fb5014191c": {
          "model_module": "@jupyter-widgets/base",
          "model_name": "LayoutModel",
          "model_module_version": "1.2.0",
          "state": {
            "_model_module": "@jupyter-widgets/base",
            "_model_module_version": "1.2.0",
            "_model_name": "LayoutModel",
            "_view_count": null,
            "_view_module": "@jupyter-widgets/base",
            "_view_module_version": "1.2.0",
            "_view_name": "LayoutView",
            "align_content": null,
            "align_items": null,
            "align_self": null,
            "border": null,
            "bottom": null,
            "display": null,
            "flex": null,
            "flex_flow": null,
            "grid_area": null,
            "grid_auto_columns": null,
            "grid_auto_flow": null,
            "grid_auto_rows": null,
            "grid_column": null,
            "grid_gap": null,
            "grid_row": null,
            "grid_template_areas": null,
            "grid_template_columns": null,
            "grid_template_rows": null,
            "height": null,
            "justify_content": null,
            "justify_items": null,
            "left": null,
            "margin": null,
            "max_height": null,
            "max_width": null,
            "min_height": null,
            "min_width": null,
            "object_fit": null,
            "object_position": null,
            "order": null,
            "overflow": null,
            "overflow_x": null,
            "overflow_y": null,
            "padding": null,
            "right": null,
            "top": null,
            "visibility": null,
            "width": null
          }
        },
        "9a077733a1154b1aa8a06d31c9983cbe": {
          "model_module": "@jupyter-widgets/controls",
          "model_name": "DescriptionStyleModel",
          "model_module_version": "1.5.0",
          "state": {
            "_model_module": "@jupyter-widgets/controls",
            "_model_module_version": "1.5.0",
            "_model_name": "DescriptionStyleModel",
            "_view_count": null,
            "_view_module": "@jupyter-widgets/base",
            "_view_module_version": "1.2.0",
            "_view_name": "StyleView",
            "description_width": ""
          }
        },
        "7025cbcdbddb4b10b2b8786c4a6304fe": {
          "model_module": "@jupyter-widgets/base",
          "model_name": "LayoutModel",
          "model_module_version": "1.2.0",
          "state": {
            "_model_module": "@jupyter-widgets/base",
            "_model_module_version": "1.2.0",
            "_model_name": "LayoutModel",
            "_view_count": null,
            "_view_module": "@jupyter-widgets/base",
            "_view_module_version": "1.2.0",
            "_view_name": "LayoutView",
            "align_content": null,
            "align_items": null,
            "align_self": null,
            "border": null,
            "bottom": null,
            "display": null,
            "flex": null,
            "flex_flow": null,
            "grid_area": null,
            "grid_auto_columns": null,
            "grid_auto_flow": null,
            "grid_auto_rows": null,
            "grid_column": null,
            "grid_gap": null,
            "grid_row": null,
            "grid_template_areas": null,
            "grid_template_columns": null,
            "grid_template_rows": null,
            "height": null,
            "justify_content": null,
            "justify_items": null,
            "left": null,
            "margin": null,
            "max_height": null,
            "max_width": null,
            "min_height": null,
            "min_width": null,
            "object_fit": null,
            "object_position": null,
            "order": null,
            "overflow": null,
            "overflow_x": null,
            "overflow_y": null,
            "padding": null,
            "right": null,
            "top": null,
            "visibility": null,
            "width": null
          }
        },
        "89f91561c6884d248a946e5d2241bf1b": {
          "model_module": "@jupyter-widgets/controls",
          "model_name": "ProgressStyleModel",
          "model_module_version": "1.5.0",
          "state": {
            "_model_module": "@jupyter-widgets/controls",
            "_model_module_version": "1.5.0",
            "_model_name": "ProgressStyleModel",
            "_view_count": null,
            "_view_module": "@jupyter-widgets/base",
            "_view_module_version": "1.2.0",
            "_view_name": "StyleView",
            "bar_color": null,
            "description_width": ""
          }
        },
        "b9fb9fa53ad4451e99021361f5eabb21": {
          "model_module": "@jupyter-widgets/base",
          "model_name": "LayoutModel",
          "model_module_version": "1.2.0",
          "state": {
            "_model_module": "@jupyter-widgets/base",
            "_model_module_version": "1.2.0",
            "_model_name": "LayoutModel",
            "_view_count": null,
            "_view_module": "@jupyter-widgets/base",
            "_view_module_version": "1.2.0",
            "_view_name": "LayoutView",
            "align_content": null,
            "align_items": null,
            "align_self": null,
            "border": null,
            "bottom": null,
            "display": null,
            "flex": null,
            "flex_flow": null,
            "grid_area": null,
            "grid_auto_columns": null,
            "grid_auto_flow": null,
            "grid_auto_rows": null,
            "grid_column": null,
            "grid_gap": null,
            "grid_row": null,
            "grid_template_areas": null,
            "grid_template_columns": null,
            "grid_template_rows": null,
            "height": null,
            "justify_content": null,
            "justify_items": null,
            "left": null,
            "margin": null,
            "max_height": null,
            "max_width": null,
            "min_height": null,
            "min_width": null,
            "object_fit": null,
            "object_position": null,
            "order": null,
            "overflow": null,
            "overflow_x": null,
            "overflow_y": null,
            "padding": null,
            "right": null,
            "top": null,
            "visibility": null,
            "width": null
          }
        },
        "c32ca832e7844818accc0eafea23c159": {
          "model_module": "@jupyter-widgets/controls",
          "model_name": "DescriptionStyleModel",
          "model_module_version": "1.5.0",
          "state": {
            "_model_module": "@jupyter-widgets/controls",
            "_model_module_version": "1.5.0",
            "_model_name": "DescriptionStyleModel",
            "_view_count": null,
            "_view_module": "@jupyter-widgets/base",
            "_view_module_version": "1.2.0",
            "_view_name": "StyleView",
            "description_width": ""
          }
        },
        "9f11e260fc3b4ed0befd44b51167caec": {
          "model_module": "@jupyter-widgets/controls",
          "model_name": "HBoxModel",
          "model_module_version": "1.5.0",
          "state": {
            "_dom_classes": [],
            "_model_module": "@jupyter-widgets/controls",
            "_model_module_version": "1.5.0",
            "_model_name": "HBoxModel",
            "_view_count": null,
            "_view_module": "@jupyter-widgets/controls",
            "_view_module_version": "1.5.0",
            "_view_name": "HBoxView",
            "box_style": "",
            "children": [
              "IPY_MODEL_c40a9e13e0314dceb20336e729bee3d0",
              "IPY_MODEL_e3b941006be94d65acf5cb4ac8daf543",
              "IPY_MODEL_98e8f0370db84cbfa9cadcffc960231d"
            ],
            "layout": "IPY_MODEL_861230bbfd664af597b4de49cca94d2e"
          }
        },
        "c40a9e13e0314dceb20336e729bee3d0": {
          "model_module": "@jupyter-widgets/controls",
          "model_name": "HTMLModel",
          "model_module_version": "1.5.0",
          "state": {
            "_dom_classes": [],
            "_model_module": "@jupyter-widgets/controls",
            "_model_module_version": "1.5.0",
            "_model_name": "HTMLModel",
            "_view_count": null,
            "_view_module": "@jupyter-widgets/controls",
            "_view_module_version": "1.5.0",
            "_view_name": "HTMLView",
            "description": "",
            "description_tooltip": null,
            "layout": "IPY_MODEL_4a6ab4d2610d4d02b4ecbb6746baa0bd",
            "placeholder": "​",
            "style": "IPY_MODEL_0930d1e1b5fe4a8b8a1fabed764b40d0",
            "value": "vocab.txt: 100%"
          }
        },
        "e3b941006be94d65acf5cb4ac8daf543": {
          "model_module": "@jupyter-widgets/controls",
          "model_name": "FloatProgressModel",
          "model_module_version": "1.5.0",
          "state": {
            "_dom_classes": [],
            "_model_module": "@jupyter-widgets/controls",
            "_model_module_version": "1.5.0",
            "_model_name": "FloatProgressModel",
            "_view_count": null,
            "_view_module": "@jupyter-widgets/controls",
            "_view_module_version": "1.5.0",
            "_view_name": "ProgressView",
            "bar_style": "success",
            "description": "",
            "description_tooltip": null,
            "layout": "IPY_MODEL_c9018b8e591748eb83b7fbb74b2d1416",
            "max": 231508,
            "min": 0,
            "orientation": "horizontal",
            "style": "IPY_MODEL_11e5e374b69b449283a097fe7414130b",
            "value": 231508
          }
        },
        "98e8f0370db84cbfa9cadcffc960231d": {
          "model_module": "@jupyter-widgets/controls",
          "model_name": "HTMLModel",
          "model_module_version": "1.5.0",
          "state": {
            "_dom_classes": [],
            "_model_module": "@jupyter-widgets/controls",
            "_model_module_version": "1.5.0",
            "_model_name": "HTMLModel",
            "_view_count": null,
            "_view_module": "@jupyter-widgets/controls",
            "_view_module_version": "1.5.0",
            "_view_name": "HTMLView",
            "description": "",
            "description_tooltip": null,
            "layout": "IPY_MODEL_7f15d3c56ca34ba987159e54f5146fb3",
            "placeholder": "​",
            "style": "IPY_MODEL_9bba2039f00b45f0aab6d6614d58f756",
            "value": " 232k/232k [00:00&lt;00:00, 6.40MB/s]"
          }
        },
        "861230bbfd664af597b4de49cca94d2e": {
          "model_module": "@jupyter-widgets/base",
          "model_name": "LayoutModel",
          "model_module_version": "1.2.0",
          "state": {
            "_model_module": "@jupyter-widgets/base",
            "_model_module_version": "1.2.0",
            "_model_name": "LayoutModel",
            "_view_count": null,
            "_view_module": "@jupyter-widgets/base",
            "_view_module_version": "1.2.0",
            "_view_name": "LayoutView",
            "align_content": null,
            "align_items": null,
            "align_self": null,
            "border": null,
            "bottom": null,
            "display": null,
            "flex": null,
            "flex_flow": null,
            "grid_area": null,
            "grid_auto_columns": null,
            "grid_auto_flow": null,
            "grid_auto_rows": null,
            "grid_column": null,
            "grid_gap": null,
            "grid_row": null,
            "grid_template_areas": null,
            "grid_template_columns": null,
            "grid_template_rows": null,
            "height": null,
            "justify_content": null,
            "justify_items": null,
            "left": null,
            "margin": null,
            "max_height": null,
            "max_width": null,
            "min_height": null,
            "min_width": null,
            "object_fit": null,
            "object_position": null,
            "order": null,
            "overflow": null,
            "overflow_x": null,
            "overflow_y": null,
            "padding": null,
            "right": null,
            "top": null,
            "visibility": null,
            "width": null
          }
        },
        "4a6ab4d2610d4d02b4ecbb6746baa0bd": {
          "model_module": "@jupyter-widgets/base",
          "model_name": "LayoutModel",
          "model_module_version": "1.2.0",
          "state": {
            "_model_module": "@jupyter-widgets/base",
            "_model_module_version": "1.2.0",
            "_model_name": "LayoutModel",
            "_view_count": null,
            "_view_module": "@jupyter-widgets/base",
            "_view_module_version": "1.2.0",
            "_view_name": "LayoutView",
            "align_content": null,
            "align_items": null,
            "align_self": null,
            "border": null,
            "bottom": null,
            "display": null,
            "flex": null,
            "flex_flow": null,
            "grid_area": null,
            "grid_auto_columns": null,
            "grid_auto_flow": null,
            "grid_auto_rows": null,
            "grid_column": null,
            "grid_gap": null,
            "grid_row": null,
            "grid_template_areas": null,
            "grid_template_columns": null,
            "grid_template_rows": null,
            "height": null,
            "justify_content": null,
            "justify_items": null,
            "left": null,
            "margin": null,
            "max_height": null,
            "max_width": null,
            "min_height": null,
            "min_width": null,
            "object_fit": null,
            "object_position": null,
            "order": null,
            "overflow": null,
            "overflow_x": null,
            "overflow_y": null,
            "padding": null,
            "right": null,
            "top": null,
            "visibility": null,
            "width": null
          }
        },
        "0930d1e1b5fe4a8b8a1fabed764b40d0": {
          "model_module": "@jupyter-widgets/controls",
          "model_name": "DescriptionStyleModel",
          "model_module_version": "1.5.0",
          "state": {
            "_model_module": "@jupyter-widgets/controls",
            "_model_module_version": "1.5.0",
            "_model_name": "DescriptionStyleModel",
            "_view_count": null,
            "_view_module": "@jupyter-widgets/base",
            "_view_module_version": "1.2.0",
            "_view_name": "StyleView",
            "description_width": ""
          }
        },
        "c9018b8e591748eb83b7fbb74b2d1416": {
          "model_module": "@jupyter-widgets/base",
          "model_name": "LayoutModel",
          "model_module_version": "1.2.0",
          "state": {
            "_model_module": "@jupyter-widgets/base",
            "_model_module_version": "1.2.0",
            "_model_name": "LayoutModel",
            "_view_count": null,
            "_view_module": "@jupyter-widgets/base",
            "_view_module_version": "1.2.0",
            "_view_name": "LayoutView",
            "align_content": null,
            "align_items": null,
            "align_self": null,
            "border": null,
            "bottom": null,
            "display": null,
            "flex": null,
            "flex_flow": null,
            "grid_area": null,
            "grid_auto_columns": null,
            "grid_auto_flow": null,
            "grid_auto_rows": null,
            "grid_column": null,
            "grid_gap": null,
            "grid_row": null,
            "grid_template_areas": null,
            "grid_template_columns": null,
            "grid_template_rows": null,
            "height": null,
            "justify_content": null,
            "justify_items": null,
            "left": null,
            "margin": null,
            "max_height": null,
            "max_width": null,
            "min_height": null,
            "min_width": null,
            "object_fit": null,
            "object_position": null,
            "order": null,
            "overflow": null,
            "overflow_x": null,
            "overflow_y": null,
            "padding": null,
            "right": null,
            "top": null,
            "visibility": null,
            "width": null
          }
        },
        "11e5e374b69b449283a097fe7414130b": {
          "model_module": "@jupyter-widgets/controls",
          "model_name": "ProgressStyleModel",
          "model_module_version": "1.5.0",
          "state": {
            "_model_module": "@jupyter-widgets/controls",
            "_model_module_version": "1.5.0",
            "_model_name": "ProgressStyleModel",
            "_view_count": null,
            "_view_module": "@jupyter-widgets/base",
            "_view_module_version": "1.2.0",
            "_view_name": "StyleView",
            "bar_color": null,
            "description_width": ""
          }
        },
        "7f15d3c56ca34ba987159e54f5146fb3": {
          "model_module": "@jupyter-widgets/base",
          "model_name": "LayoutModel",
          "model_module_version": "1.2.0",
          "state": {
            "_model_module": "@jupyter-widgets/base",
            "_model_module_version": "1.2.0",
            "_model_name": "LayoutModel",
            "_view_count": null,
            "_view_module": "@jupyter-widgets/base",
            "_view_module_version": "1.2.0",
            "_view_name": "LayoutView",
            "align_content": null,
            "align_items": null,
            "align_self": null,
            "border": null,
            "bottom": null,
            "display": null,
            "flex": null,
            "flex_flow": null,
            "grid_area": null,
            "grid_auto_columns": null,
            "grid_auto_flow": null,
            "grid_auto_rows": null,
            "grid_column": null,
            "grid_gap": null,
            "grid_row": null,
            "grid_template_areas": null,
            "grid_template_columns": null,
            "grid_template_rows": null,
            "height": null,
            "justify_content": null,
            "justify_items": null,
            "left": null,
            "margin": null,
            "max_height": null,
            "max_width": null,
            "min_height": null,
            "min_width": null,
            "object_fit": null,
            "object_position": null,
            "order": null,
            "overflow": null,
            "overflow_x": null,
            "overflow_y": null,
            "padding": null,
            "right": null,
            "top": null,
            "visibility": null,
            "width": null
          }
        },
        "9bba2039f00b45f0aab6d6614d58f756": {
          "model_module": "@jupyter-widgets/controls",
          "model_name": "DescriptionStyleModel",
          "model_module_version": "1.5.0",
          "state": {
            "_model_module": "@jupyter-widgets/controls",
            "_model_module_version": "1.5.0",
            "_model_name": "DescriptionStyleModel",
            "_view_count": null,
            "_view_module": "@jupyter-widgets/base",
            "_view_module_version": "1.2.0",
            "_view_name": "StyleView",
            "description_width": ""
          }
        },
        "ce33ebd3238644c189f813faebbf8498": {
          "model_module": "@jupyter-widgets/controls",
          "model_name": "HBoxModel",
          "model_module_version": "1.5.0",
          "state": {
            "_dom_classes": [],
            "_model_module": "@jupyter-widgets/controls",
            "_model_module_version": "1.5.0",
            "_model_name": "HBoxModel",
            "_view_count": null,
            "_view_module": "@jupyter-widgets/controls",
            "_view_module_version": "1.5.0",
            "_view_name": "HBoxView",
            "box_style": "",
            "children": [
              "IPY_MODEL_21d62a283b7844779f931f290dbef3d3",
              "IPY_MODEL_7325396238a1460f8efc27cb0708e058",
              "IPY_MODEL_b338725f01244400b56088e6812b7972"
            ],
            "layout": "IPY_MODEL_3dc195f9d2eb42529192a7421248f8a0"
          }
        },
        "21d62a283b7844779f931f290dbef3d3": {
          "model_module": "@jupyter-widgets/controls",
          "model_name": "HTMLModel",
          "model_module_version": "1.5.0",
          "state": {
            "_dom_classes": [],
            "_model_module": "@jupyter-widgets/controls",
            "_model_module_version": "1.5.0",
            "_model_name": "HTMLModel",
            "_view_count": null,
            "_view_module": "@jupyter-widgets/controls",
            "_view_module_version": "1.5.0",
            "_view_name": "HTMLView",
            "description": "",
            "description_tooltip": null,
            "layout": "IPY_MODEL_4f82b638559b44fcb84b274619d55bd7",
            "placeholder": "​",
            "style": "IPY_MODEL_d47097017ebe47718ec3abb3105c9efb",
            "value": "tokenizer.json: 100%"
          }
        },
        "7325396238a1460f8efc27cb0708e058": {
          "model_module": "@jupyter-widgets/controls",
          "model_name": "FloatProgressModel",
          "model_module_version": "1.5.0",
          "state": {
            "_dom_classes": [],
            "_model_module": "@jupyter-widgets/controls",
            "_model_module_version": "1.5.0",
            "_model_name": "FloatProgressModel",
            "_view_count": null,
            "_view_module": "@jupyter-widgets/controls",
            "_view_module_version": "1.5.0",
            "_view_name": "ProgressView",
            "bar_style": "success",
            "description": "",
            "description_tooltip": null,
            "layout": "IPY_MODEL_0aeeb13a64504bc393fcf2c33f66a3a3",
            "max": 466062,
            "min": 0,
            "orientation": "horizontal",
            "style": "IPY_MODEL_0413981ccc63491e9f1d2811f1fb2124",
            "value": 466062
          }
        },
        "b338725f01244400b56088e6812b7972": {
          "model_module": "@jupyter-widgets/controls",
          "model_name": "HTMLModel",
          "model_module_version": "1.5.0",
          "state": {
            "_dom_classes": [],
            "_model_module": "@jupyter-widgets/controls",
            "_model_module_version": "1.5.0",
            "_model_name": "HTMLModel",
            "_view_count": null,
            "_view_module": "@jupyter-widgets/controls",
            "_view_module_version": "1.5.0",
            "_view_name": "HTMLView",
            "description": "",
            "description_tooltip": null,
            "layout": "IPY_MODEL_8f29705b8a6046ccbaf1090dfa42b496",
            "placeholder": "​",
            "style": "IPY_MODEL_f76706f18aee441d9550c07c7de844b8",
            "value": " 466k/466k [00:00&lt;00:00, 10.4MB/s]"
          }
        },
        "3dc195f9d2eb42529192a7421248f8a0": {
          "model_module": "@jupyter-widgets/base",
          "model_name": "LayoutModel",
          "model_module_version": "1.2.0",
          "state": {
            "_model_module": "@jupyter-widgets/base",
            "_model_module_version": "1.2.0",
            "_model_name": "LayoutModel",
            "_view_count": null,
            "_view_module": "@jupyter-widgets/base",
            "_view_module_version": "1.2.0",
            "_view_name": "LayoutView",
            "align_content": null,
            "align_items": null,
            "align_self": null,
            "border": null,
            "bottom": null,
            "display": null,
            "flex": null,
            "flex_flow": null,
            "grid_area": null,
            "grid_auto_columns": null,
            "grid_auto_flow": null,
            "grid_auto_rows": null,
            "grid_column": null,
            "grid_gap": null,
            "grid_row": null,
            "grid_template_areas": null,
            "grid_template_columns": null,
            "grid_template_rows": null,
            "height": null,
            "justify_content": null,
            "justify_items": null,
            "left": null,
            "margin": null,
            "max_height": null,
            "max_width": null,
            "min_height": null,
            "min_width": null,
            "object_fit": null,
            "object_position": null,
            "order": null,
            "overflow": null,
            "overflow_x": null,
            "overflow_y": null,
            "padding": null,
            "right": null,
            "top": null,
            "visibility": null,
            "width": null
          }
        },
        "4f82b638559b44fcb84b274619d55bd7": {
          "model_module": "@jupyter-widgets/base",
          "model_name": "LayoutModel",
          "model_module_version": "1.2.0",
          "state": {
            "_model_module": "@jupyter-widgets/base",
            "_model_module_version": "1.2.0",
            "_model_name": "LayoutModel",
            "_view_count": null,
            "_view_module": "@jupyter-widgets/base",
            "_view_module_version": "1.2.0",
            "_view_name": "LayoutView",
            "align_content": null,
            "align_items": null,
            "align_self": null,
            "border": null,
            "bottom": null,
            "display": null,
            "flex": null,
            "flex_flow": null,
            "grid_area": null,
            "grid_auto_columns": null,
            "grid_auto_flow": null,
            "grid_auto_rows": null,
            "grid_column": null,
            "grid_gap": null,
            "grid_row": null,
            "grid_template_areas": null,
            "grid_template_columns": null,
            "grid_template_rows": null,
            "height": null,
            "justify_content": null,
            "justify_items": null,
            "left": null,
            "margin": null,
            "max_height": null,
            "max_width": null,
            "min_height": null,
            "min_width": null,
            "object_fit": null,
            "object_position": null,
            "order": null,
            "overflow": null,
            "overflow_x": null,
            "overflow_y": null,
            "padding": null,
            "right": null,
            "top": null,
            "visibility": null,
            "width": null
          }
        },
        "d47097017ebe47718ec3abb3105c9efb": {
          "model_module": "@jupyter-widgets/controls",
          "model_name": "DescriptionStyleModel",
          "model_module_version": "1.5.0",
          "state": {
            "_model_module": "@jupyter-widgets/controls",
            "_model_module_version": "1.5.0",
            "_model_name": "DescriptionStyleModel",
            "_view_count": null,
            "_view_module": "@jupyter-widgets/base",
            "_view_module_version": "1.2.0",
            "_view_name": "StyleView",
            "description_width": ""
          }
        },
        "0aeeb13a64504bc393fcf2c33f66a3a3": {
          "model_module": "@jupyter-widgets/base",
          "model_name": "LayoutModel",
          "model_module_version": "1.2.0",
          "state": {
            "_model_module": "@jupyter-widgets/base",
            "_model_module_version": "1.2.0",
            "_model_name": "LayoutModel",
            "_view_count": null,
            "_view_module": "@jupyter-widgets/base",
            "_view_module_version": "1.2.0",
            "_view_name": "LayoutView",
            "align_content": null,
            "align_items": null,
            "align_self": null,
            "border": null,
            "bottom": null,
            "display": null,
            "flex": null,
            "flex_flow": null,
            "grid_area": null,
            "grid_auto_columns": null,
            "grid_auto_flow": null,
            "grid_auto_rows": null,
            "grid_column": null,
            "grid_gap": null,
            "grid_row": null,
            "grid_template_areas": null,
            "grid_template_columns": null,
            "grid_template_rows": null,
            "height": null,
            "justify_content": null,
            "justify_items": null,
            "left": null,
            "margin": null,
            "max_height": null,
            "max_width": null,
            "min_height": null,
            "min_width": null,
            "object_fit": null,
            "object_position": null,
            "order": null,
            "overflow": null,
            "overflow_x": null,
            "overflow_y": null,
            "padding": null,
            "right": null,
            "top": null,
            "visibility": null,
            "width": null
          }
        },
        "0413981ccc63491e9f1d2811f1fb2124": {
          "model_module": "@jupyter-widgets/controls",
          "model_name": "ProgressStyleModel",
          "model_module_version": "1.5.0",
          "state": {
            "_model_module": "@jupyter-widgets/controls",
            "_model_module_version": "1.5.0",
            "_model_name": "ProgressStyleModel",
            "_view_count": null,
            "_view_module": "@jupyter-widgets/base",
            "_view_module_version": "1.2.0",
            "_view_name": "StyleView",
            "bar_color": null,
            "description_width": ""
          }
        },
        "8f29705b8a6046ccbaf1090dfa42b496": {
          "model_module": "@jupyter-widgets/base",
          "model_name": "LayoutModel",
          "model_module_version": "1.2.0",
          "state": {
            "_model_module": "@jupyter-widgets/base",
            "_model_module_version": "1.2.0",
            "_model_name": "LayoutModel",
            "_view_count": null,
            "_view_module": "@jupyter-widgets/base",
            "_view_module_version": "1.2.0",
            "_view_name": "LayoutView",
            "align_content": null,
            "align_items": null,
            "align_self": null,
            "border": null,
            "bottom": null,
            "display": null,
            "flex": null,
            "flex_flow": null,
            "grid_area": null,
            "grid_auto_columns": null,
            "grid_auto_flow": null,
            "grid_auto_rows": null,
            "grid_column": null,
            "grid_gap": null,
            "grid_row": null,
            "grid_template_areas": null,
            "grid_template_columns": null,
            "grid_template_rows": null,
            "height": null,
            "justify_content": null,
            "justify_items": null,
            "left": null,
            "margin": null,
            "max_height": null,
            "max_width": null,
            "min_height": null,
            "min_width": null,
            "object_fit": null,
            "object_position": null,
            "order": null,
            "overflow": null,
            "overflow_x": null,
            "overflow_y": null,
            "padding": null,
            "right": null,
            "top": null,
            "visibility": null,
            "width": null
          }
        },
        "f76706f18aee441d9550c07c7de844b8": {
          "model_module": "@jupyter-widgets/controls",
          "model_name": "DescriptionStyleModel",
          "model_module_version": "1.5.0",
          "state": {
            "_model_module": "@jupyter-widgets/controls",
            "_model_module_version": "1.5.0",
            "_model_name": "DescriptionStyleModel",
            "_view_count": null,
            "_view_module": "@jupyter-widgets/base",
            "_view_module_version": "1.2.0",
            "_view_name": "StyleView",
            "description_width": ""
          }
        },
        "5fed41e39ab94d2bb846f28bdcdd63cd": {
          "model_module": "@jupyter-widgets/controls",
          "model_name": "HBoxModel",
          "model_module_version": "1.5.0",
          "state": {
            "_dom_classes": [],
            "_model_module": "@jupyter-widgets/controls",
            "_model_module_version": "1.5.0",
            "_model_name": "HBoxModel",
            "_view_count": null,
            "_view_module": "@jupyter-widgets/controls",
            "_view_module_version": "1.5.0",
            "_view_name": "HBoxView",
            "box_style": "",
            "children": [
              "IPY_MODEL_a15ad0a18feb4dfa97aa3a29ce87dbdc",
              "IPY_MODEL_d962014717fc4d11ad7abd31704b71e2",
              "IPY_MODEL_ca4ea4a182aa4c458dc2e5197b40153b"
            ],
            "layout": "IPY_MODEL_2749418b2fe14001b5eab2017fcb37d7"
          }
        },
        "a15ad0a18feb4dfa97aa3a29ce87dbdc": {
          "model_module": "@jupyter-widgets/controls",
          "model_name": "HTMLModel",
          "model_module_version": "1.5.0",
          "state": {
            "_dom_classes": [],
            "_model_module": "@jupyter-widgets/controls",
            "_model_module_version": "1.5.0",
            "_model_name": "HTMLModel",
            "_view_count": null,
            "_view_module": "@jupyter-widgets/controls",
            "_view_module_version": "1.5.0",
            "_view_name": "HTMLView",
            "description": "",
            "description_tooltip": null,
            "layout": "IPY_MODEL_8c525c2b49b044ecb88343a1bdf97beb",
            "placeholder": "​",
            "style": "IPY_MODEL_5e44953499ed45d7bfe465f60b701072",
            "value": "config.json: 100%"
          }
        },
        "d962014717fc4d11ad7abd31704b71e2": {
          "model_module": "@jupyter-widgets/controls",
          "model_name": "FloatProgressModel",
          "model_module_version": "1.5.0",
          "state": {
            "_dom_classes": [],
            "_model_module": "@jupyter-widgets/controls",
            "_model_module_version": "1.5.0",
            "_model_name": "FloatProgressModel",
            "_view_count": null,
            "_view_module": "@jupyter-widgets/controls",
            "_view_module_version": "1.5.0",
            "_view_name": "ProgressView",
            "bar_style": "success",
            "description": "",
            "description_tooltip": null,
            "layout": "IPY_MODEL_f4538eac95e94eef977ebe5ff859affc",
            "max": 570,
            "min": 0,
            "orientation": "horizontal",
            "style": "IPY_MODEL_0877f833331d4fda9eb6627458c78d0e",
            "value": 570
          }
        },
        "ca4ea4a182aa4c458dc2e5197b40153b": {
          "model_module": "@jupyter-widgets/controls",
          "model_name": "HTMLModel",
          "model_module_version": "1.5.0",
          "state": {
            "_dom_classes": [],
            "_model_module": "@jupyter-widgets/controls",
            "_model_module_version": "1.5.0",
            "_model_name": "HTMLModel",
            "_view_count": null,
            "_view_module": "@jupyter-widgets/controls",
            "_view_module_version": "1.5.0",
            "_view_name": "HTMLView",
            "description": "",
            "description_tooltip": null,
            "layout": "IPY_MODEL_af8bf99a81f14d54855cfcb2f4652999",
            "placeholder": "​",
            "style": "IPY_MODEL_36609a4ed9624178a16d51f4a0bf4a65",
            "value": " 570/570 [00:00&lt;00:00, 13.5kB/s]"
          }
        },
        "2749418b2fe14001b5eab2017fcb37d7": {
          "model_module": "@jupyter-widgets/base",
          "model_name": "LayoutModel",
          "model_module_version": "1.2.0",
          "state": {
            "_model_module": "@jupyter-widgets/base",
            "_model_module_version": "1.2.0",
            "_model_name": "LayoutModel",
            "_view_count": null,
            "_view_module": "@jupyter-widgets/base",
            "_view_module_version": "1.2.0",
            "_view_name": "LayoutView",
            "align_content": null,
            "align_items": null,
            "align_self": null,
            "border": null,
            "bottom": null,
            "display": null,
            "flex": null,
            "flex_flow": null,
            "grid_area": null,
            "grid_auto_columns": null,
            "grid_auto_flow": null,
            "grid_auto_rows": null,
            "grid_column": null,
            "grid_gap": null,
            "grid_row": null,
            "grid_template_areas": null,
            "grid_template_columns": null,
            "grid_template_rows": null,
            "height": null,
            "justify_content": null,
            "justify_items": null,
            "left": null,
            "margin": null,
            "max_height": null,
            "max_width": null,
            "min_height": null,
            "min_width": null,
            "object_fit": null,
            "object_position": null,
            "order": null,
            "overflow": null,
            "overflow_x": null,
            "overflow_y": null,
            "padding": null,
            "right": null,
            "top": null,
            "visibility": null,
            "width": null
          }
        },
        "8c525c2b49b044ecb88343a1bdf97beb": {
          "model_module": "@jupyter-widgets/base",
          "model_name": "LayoutModel",
          "model_module_version": "1.2.0",
          "state": {
            "_model_module": "@jupyter-widgets/base",
            "_model_module_version": "1.2.0",
            "_model_name": "LayoutModel",
            "_view_count": null,
            "_view_module": "@jupyter-widgets/base",
            "_view_module_version": "1.2.0",
            "_view_name": "LayoutView",
            "align_content": null,
            "align_items": null,
            "align_self": null,
            "border": null,
            "bottom": null,
            "display": null,
            "flex": null,
            "flex_flow": null,
            "grid_area": null,
            "grid_auto_columns": null,
            "grid_auto_flow": null,
            "grid_auto_rows": null,
            "grid_column": null,
            "grid_gap": null,
            "grid_row": null,
            "grid_template_areas": null,
            "grid_template_columns": null,
            "grid_template_rows": null,
            "height": null,
            "justify_content": null,
            "justify_items": null,
            "left": null,
            "margin": null,
            "max_height": null,
            "max_width": null,
            "min_height": null,
            "min_width": null,
            "object_fit": null,
            "object_position": null,
            "order": null,
            "overflow": null,
            "overflow_x": null,
            "overflow_y": null,
            "padding": null,
            "right": null,
            "top": null,
            "visibility": null,
            "width": null
          }
        },
        "5e44953499ed45d7bfe465f60b701072": {
          "model_module": "@jupyter-widgets/controls",
          "model_name": "DescriptionStyleModel",
          "model_module_version": "1.5.0",
          "state": {
            "_model_module": "@jupyter-widgets/controls",
            "_model_module_version": "1.5.0",
            "_model_name": "DescriptionStyleModel",
            "_view_count": null,
            "_view_module": "@jupyter-widgets/base",
            "_view_module_version": "1.2.0",
            "_view_name": "StyleView",
            "description_width": ""
          }
        },
        "f4538eac95e94eef977ebe5ff859affc": {
          "model_module": "@jupyter-widgets/base",
          "model_name": "LayoutModel",
          "model_module_version": "1.2.0",
          "state": {
            "_model_module": "@jupyter-widgets/base",
            "_model_module_version": "1.2.0",
            "_model_name": "LayoutModel",
            "_view_count": null,
            "_view_module": "@jupyter-widgets/base",
            "_view_module_version": "1.2.0",
            "_view_name": "LayoutView",
            "align_content": null,
            "align_items": null,
            "align_self": null,
            "border": null,
            "bottom": null,
            "display": null,
            "flex": null,
            "flex_flow": null,
            "grid_area": null,
            "grid_auto_columns": null,
            "grid_auto_flow": null,
            "grid_auto_rows": null,
            "grid_column": null,
            "grid_gap": null,
            "grid_row": null,
            "grid_template_areas": null,
            "grid_template_columns": null,
            "grid_template_rows": null,
            "height": null,
            "justify_content": null,
            "justify_items": null,
            "left": null,
            "margin": null,
            "max_height": null,
            "max_width": null,
            "min_height": null,
            "min_width": null,
            "object_fit": null,
            "object_position": null,
            "order": null,
            "overflow": null,
            "overflow_x": null,
            "overflow_y": null,
            "padding": null,
            "right": null,
            "top": null,
            "visibility": null,
            "width": null
          }
        },
        "0877f833331d4fda9eb6627458c78d0e": {
          "model_module": "@jupyter-widgets/controls",
          "model_name": "ProgressStyleModel",
          "model_module_version": "1.5.0",
          "state": {
            "_model_module": "@jupyter-widgets/controls",
            "_model_module_version": "1.5.0",
            "_model_name": "ProgressStyleModel",
            "_view_count": null,
            "_view_module": "@jupyter-widgets/base",
            "_view_module_version": "1.2.0",
            "_view_name": "StyleView",
            "bar_color": null,
            "description_width": ""
          }
        },
        "af8bf99a81f14d54855cfcb2f4652999": {
          "model_module": "@jupyter-widgets/base",
          "model_name": "LayoutModel",
          "model_module_version": "1.2.0",
          "state": {
            "_model_module": "@jupyter-widgets/base",
            "_model_module_version": "1.2.0",
            "_model_name": "LayoutModel",
            "_view_count": null,
            "_view_module": "@jupyter-widgets/base",
            "_view_module_version": "1.2.0",
            "_view_name": "LayoutView",
            "align_content": null,
            "align_items": null,
            "align_self": null,
            "border": null,
            "bottom": null,
            "display": null,
            "flex": null,
            "flex_flow": null,
            "grid_area": null,
            "grid_auto_columns": null,
            "grid_auto_flow": null,
            "grid_auto_rows": null,
            "grid_column": null,
            "grid_gap": null,
            "grid_row": null,
            "grid_template_areas": null,
            "grid_template_columns": null,
            "grid_template_rows": null,
            "height": null,
            "justify_content": null,
            "justify_items": null,
            "left": null,
            "margin": null,
            "max_height": null,
            "max_width": null,
            "min_height": null,
            "min_width": null,
            "object_fit": null,
            "object_position": null,
            "order": null,
            "overflow": null,
            "overflow_x": null,
            "overflow_y": null,
            "padding": null,
            "right": null,
            "top": null,
            "visibility": null,
            "width": null
          }
        },
        "36609a4ed9624178a16d51f4a0bf4a65": {
          "model_module": "@jupyter-widgets/controls",
          "model_name": "DescriptionStyleModel",
          "model_module_version": "1.5.0",
          "state": {
            "_model_module": "@jupyter-widgets/controls",
            "_model_module_version": "1.5.0",
            "_model_name": "DescriptionStyleModel",
            "_view_count": null,
            "_view_module": "@jupyter-widgets/base",
            "_view_module_version": "1.2.0",
            "_view_name": "StyleView",
            "description_width": ""
          }
        },
        "6801ea2bfa114076b5661aa441f9de31": {
          "model_module": "@jupyter-widgets/controls",
          "model_name": "HBoxModel",
          "model_module_version": "1.5.0",
          "state": {
            "_dom_classes": [],
            "_model_module": "@jupyter-widgets/controls",
            "_model_module_version": "1.5.0",
            "_model_name": "HBoxModel",
            "_view_count": null,
            "_view_module": "@jupyter-widgets/controls",
            "_view_module_version": "1.5.0",
            "_view_name": "HBoxView",
            "box_style": "",
            "children": [
              "IPY_MODEL_13660942f4a54cdcad4fbf733ddf205b",
              "IPY_MODEL_df0f3b527d8e4ba58d930d4aeea25364",
              "IPY_MODEL_0d3aca57fb364473ae089714e56bca5b"
            ],
            "layout": "IPY_MODEL_ad093463aeb04e7cb10b7939f18d2814"
          }
        },
        "13660942f4a54cdcad4fbf733ddf205b": {
          "model_module": "@jupyter-widgets/controls",
          "model_name": "HTMLModel",
          "model_module_version": "1.5.0",
          "state": {
            "_dom_classes": [],
            "_model_module": "@jupyter-widgets/controls",
            "_model_module_version": "1.5.0",
            "_model_name": "HTMLModel",
            "_view_count": null,
            "_view_module": "@jupyter-widgets/controls",
            "_view_module_version": "1.5.0",
            "_view_name": "HTMLView",
            "description": "",
            "description_tooltip": null,
            "layout": "IPY_MODEL_e25515f93b7f484ab77e5957eeb1bab5",
            "placeholder": "​",
            "style": "IPY_MODEL_d6993f5c0bcf44fb996f22b5ecf69ea2",
            "value": "model.safetensors: 100%"
          }
        },
        "df0f3b527d8e4ba58d930d4aeea25364": {
          "model_module": "@jupyter-widgets/controls",
          "model_name": "FloatProgressModel",
          "model_module_version": "1.5.0",
          "state": {
            "_dom_classes": [],
            "_model_module": "@jupyter-widgets/controls",
            "_model_module_version": "1.5.0",
            "_model_name": "FloatProgressModel",
            "_view_count": null,
            "_view_module": "@jupyter-widgets/controls",
            "_view_module_version": "1.5.0",
            "_view_name": "ProgressView",
            "bar_style": "success",
            "description": "",
            "description_tooltip": null,
            "layout": "IPY_MODEL_419df1eb3b6448d088fb0f1552b1a8e2",
            "max": 440449768,
            "min": 0,
            "orientation": "horizontal",
            "style": "IPY_MODEL_879a1b998de04f5f9315459e954b41bb",
            "value": 440449768
          }
        },
        "0d3aca57fb364473ae089714e56bca5b": {
          "model_module": "@jupyter-widgets/controls",
          "model_name": "HTMLModel",
          "model_module_version": "1.5.0",
          "state": {
            "_dom_classes": [],
            "_model_module": "@jupyter-widgets/controls",
            "_model_module_version": "1.5.0",
            "_model_name": "HTMLModel",
            "_view_count": null,
            "_view_module": "@jupyter-widgets/controls",
            "_view_module_version": "1.5.0",
            "_view_name": "HTMLView",
            "description": "",
            "description_tooltip": null,
            "layout": "IPY_MODEL_5723c43a4faa43cb81d22697f9e4cf76",
            "placeholder": "​",
            "style": "IPY_MODEL_555cf05e413145e19a6b487b3574fef0",
            "value": " 440M/440M [00:02&lt;00:00, 272MB/s]"
          }
        },
        "ad093463aeb04e7cb10b7939f18d2814": {
          "model_module": "@jupyter-widgets/base",
          "model_name": "LayoutModel",
          "model_module_version": "1.2.0",
          "state": {
            "_model_module": "@jupyter-widgets/base",
            "_model_module_version": "1.2.0",
            "_model_name": "LayoutModel",
            "_view_count": null,
            "_view_module": "@jupyter-widgets/base",
            "_view_module_version": "1.2.0",
            "_view_name": "LayoutView",
            "align_content": null,
            "align_items": null,
            "align_self": null,
            "border": null,
            "bottom": null,
            "display": null,
            "flex": null,
            "flex_flow": null,
            "grid_area": null,
            "grid_auto_columns": null,
            "grid_auto_flow": null,
            "grid_auto_rows": null,
            "grid_column": null,
            "grid_gap": null,
            "grid_row": null,
            "grid_template_areas": null,
            "grid_template_columns": null,
            "grid_template_rows": null,
            "height": null,
            "justify_content": null,
            "justify_items": null,
            "left": null,
            "margin": null,
            "max_height": null,
            "max_width": null,
            "min_height": null,
            "min_width": null,
            "object_fit": null,
            "object_position": null,
            "order": null,
            "overflow": null,
            "overflow_x": null,
            "overflow_y": null,
            "padding": null,
            "right": null,
            "top": null,
            "visibility": null,
            "width": null
          }
        },
        "e25515f93b7f484ab77e5957eeb1bab5": {
          "model_module": "@jupyter-widgets/base",
          "model_name": "LayoutModel",
          "model_module_version": "1.2.0",
          "state": {
            "_model_module": "@jupyter-widgets/base",
            "_model_module_version": "1.2.0",
            "_model_name": "LayoutModel",
            "_view_count": null,
            "_view_module": "@jupyter-widgets/base",
            "_view_module_version": "1.2.0",
            "_view_name": "LayoutView",
            "align_content": null,
            "align_items": null,
            "align_self": null,
            "border": null,
            "bottom": null,
            "display": null,
            "flex": null,
            "flex_flow": null,
            "grid_area": null,
            "grid_auto_columns": null,
            "grid_auto_flow": null,
            "grid_auto_rows": null,
            "grid_column": null,
            "grid_gap": null,
            "grid_row": null,
            "grid_template_areas": null,
            "grid_template_columns": null,
            "grid_template_rows": null,
            "height": null,
            "justify_content": null,
            "justify_items": null,
            "left": null,
            "margin": null,
            "max_height": null,
            "max_width": null,
            "min_height": null,
            "min_width": null,
            "object_fit": null,
            "object_position": null,
            "order": null,
            "overflow": null,
            "overflow_x": null,
            "overflow_y": null,
            "padding": null,
            "right": null,
            "top": null,
            "visibility": null,
            "width": null
          }
        },
        "d6993f5c0bcf44fb996f22b5ecf69ea2": {
          "model_module": "@jupyter-widgets/controls",
          "model_name": "DescriptionStyleModel",
          "model_module_version": "1.5.0",
          "state": {
            "_model_module": "@jupyter-widgets/controls",
            "_model_module_version": "1.5.0",
            "_model_name": "DescriptionStyleModel",
            "_view_count": null,
            "_view_module": "@jupyter-widgets/base",
            "_view_module_version": "1.2.0",
            "_view_name": "StyleView",
            "description_width": ""
          }
        },
        "419df1eb3b6448d088fb0f1552b1a8e2": {
          "model_module": "@jupyter-widgets/base",
          "model_name": "LayoutModel",
          "model_module_version": "1.2.0",
          "state": {
            "_model_module": "@jupyter-widgets/base",
            "_model_module_version": "1.2.0",
            "_model_name": "LayoutModel",
            "_view_count": null,
            "_view_module": "@jupyter-widgets/base",
            "_view_module_version": "1.2.0",
            "_view_name": "LayoutView",
            "align_content": null,
            "align_items": null,
            "align_self": null,
            "border": null,
            "bottom": null,
            "display": null,
            "flex": null,
            "flex_flow": null,
            "grid_area": null,
            "grid_auto_columns": null,
            "grid_auto_flow": null,
            "grid_auto_rows": null,
            "grid_column": null,
            "grid_gap": null,
            "grid_row": null,
            "grid_template_areas": null,
            "grid_template_columns": null,
            "grid_template_rows": null,
            "height": null,
            "justify_content": null,
            "justify_items": null,
            "left": null,
            "margin": null,
            "max_height": null,
            "max_width": null,
            "min_height": null,
            "min_width": null,
            "object_fit": null,
            "object_position": null,
            "order": null,
            "overflow": null,
            "overflow_x": null,
            "overflow_y": null,
            "padding": null,
            "right": null,
            "top": null,
            "visibility": null,
            "width": null
          }
        },
        "879a1b998de04f5f9315459e954b41bb": {
          "model_module": "@jupyter-widgets/controls",
          "model_name": "ProgressStyleModel",
          "model_module_version": "1.5.0",
          "state": {
            "_model_module": "@jupyter-widgets/controls",
            "_model_module_version": "1.5.0",
            "_model_name": "ProgressStyleModel",
            "_view_count": null,
            "_view_module": "@jupyter-widgets/base",
            "_view_module_version": "1.2.0",
            "_view_name": "StyleView",
            "bar_color": null,
            "description_width": ""
          }
        },
        "5723c43a4faa43cb81d22697f9e4cf76": {
          "model_module": "@jupyter-widgets/base",
          "model_name": "LayoutModel",
          "model_module_version": "1.2.0",
          "state": {
            "_model_module": "@jupyter-widgets/base",
            "_model_module_version": "1.2.0",
            "_model_name": "LayoutModel",
            "_view_count": null,
            "_view_module": "@jupyter-widgets/base",
            "_view_module_version": "1.2.0",
            "_view_name": "LayoutView",
            "align_content": null,
            "align_items": null,
            "align_self": null,
            "border": null,
            "bottom": null,
            "display": null,
            "flex": null,
            "flex_flow": null,
            "grid_area": null,
            "grid_auto_columns": null,
            "grid_auto_flow": null,
            "grid_auto_rows": null,
            "grid_column": null,
            "grid_gap": null,
            "grid_row": null,
            "grid_template_areas": null,
            "grid_template_columns": null,
            "grid_template_rows": null,
            "height": null,
            "justify_content": null,
            "justify_items": null,
            "left": null,
            "margin": null,
            "max_height": null,
            "max_width": null,
            "min_height": null,
            "min_width": null,
            "object_fit": null,
            "object_position": null,
            "order": null,
            "overflow": null,
            "overflow_x": null,
            "overflow_y": null,
            "padding": null,
            "right": null,
            "top": null,
            "visibility": null,
            "width": null
          }
        },
        "555cf05e413145e19a6b487b3574fef0": {
          "model_module": "@jupyter-widgets/controls",
          "model_name": "DescriptionStyleModel",
          "model_module_version": "1.5.0",
          "state": {
            "_model_module": "@jupyter-widgets/controls",
            "_model_module_version": "1.5.0",
            "_model_name": "DescriptionStyleModel",
            "_view_count": null,
            "_view_module": "@jupyter-widgets/base",
            "_view_module_version": "1.2.0",
            "_view_name": "StyleView",
            "description_width": ""
          }
        }
      }
    }
  },
  "nbformat": 4,
  "nbformat_minor": 0
}